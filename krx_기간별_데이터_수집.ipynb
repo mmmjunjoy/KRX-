{
  "nbformat": 4,
  "nbformat_minor": 0,
  "metadata": {
    "colab": {
      "provenance": []
    },
    "kernelspec": {
      "name": "python3",
      "display_name": "Python 3"
    },
    "language_info": {
      "name": "python"
    }
  },
  "cells": [
    {
      "cell_type": "code",
      "execution_count": null,
      "metadata": {
        "id": "8yrb8Jm4grCv"
      },
      "outputs": [],
      "source": [
        "#krx 기간별 데이터 수집 예시\n",
        "  "
      ]
    },
    {
      "cell_type": "code",
      "source": [
        "#예1)\n",
        "\n",
        "\n",
        "\n",
        "class AllListedIssuePeriod(BaseModel):\n",
        "    start_date:date\n",
        "    end_date:date\n",
        "\n",
        "\n",
        "  @router.post('/all/period',\n",
        "    summary='전종목 기본정보 업데이트 (기간 지정)',\n",
        "    response_model=int,\n",
        "    )\n",
        "  \n",
        "  async def update_issued_all_period(self,param:AllListedIssuePeriod):\n",
        "    cur_date = param.start_date\n",
        "    res = []\n",
        "    while cur_date <= param.end_date:\n",
        "      item = await self.update_issued_all(\n",
        "        self.AllListedIssuePeriod(\n",
        "          cur_date=cur_date,\n",
        "        )\n",
        "        \n",
        "      )\n",
        "      res.append(item)\n",
        "      cur_date += timedelta(days=1)\n",
        "      time.sleep(1)\n",
        "\n",
        "    return len(res)\n",
        "\n",
        "  "
      ],
      "metadata": {
        "id": "FdmAu3cDhDt6"
      },
      "execution_count": null,
      "outputs": []
    },
    {
      "cell_type": "code",
      "source": [
        "#예2)\n",
        "\n",
        "\n",
        "class ForeignOwnershipPeriodParam(BaseModel):\n",
        "    start_date:date\n",
        "    end_date:date\n",
        "\n",
        "  @router.post('/foreign/ownership/period',\n",
        "    summary='외국인 보유량(개별종목) 업데이트 (기간 지정)',\n",
        "    response_model=int,\n",
        "  )\n",
        "  async def update_foreign_ownership_period(self, param:ForeignOwnershipPeriodParam):\n",
        "    cur_date = param.start_date\n",
        "    res = []\n",
        "    while cur_date <= param.end_date: # 2005-10-04 부터 시작\n",
        "      logger.info(f'{cur_date.strftime(\"%Y-%m-%d\")}')\n",
        "      item = await self.update_foreign_ownership(\n",
        "        self.ForeignOwnershipParam(\n",
        "          cur_date=cur_date,\n",
        "        )\n",
        "      )\n",
        "      res.append(item)\n",
        "      cur_date += timedelta(days=1)\n",
        "      time.sleep(1)\n",
        "\n",
        "    return len(res)\n"
      ],
      "metadata": {
        "id": "fn8tXBC8hMXj"
      },
      "execution_count": null,
      "outputs": []
    },
    {
      "cell_type": "code",
      "source": [],
      "metadata": {
        "id": "yUyjFH2vhMZZ"
      },
      "execution_count": null,
      "outputs": []
    }
  ]
}