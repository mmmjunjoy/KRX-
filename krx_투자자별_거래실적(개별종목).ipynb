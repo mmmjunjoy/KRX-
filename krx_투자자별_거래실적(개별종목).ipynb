{
  "nbformat": 4,
  "nbformat_minor": 0,
  "metadata": {
    "colab": {
      "provenance": []
    },
    "kernelspec": {
      "name": "python3",
      "display_name": "Python 3"
    },
    "language_info": {
      "name": "python"
    }
  },
  "cells": [
    {
      "cell_type": "code",
      "execution_count": 3,
      "metadata": {
        "id": "dh7XAMDo1BOA"
      },
      "outputs": [],
      "source": [
        "# 모듈 설치\n",
        "\n",
        "import json\n",
        "import requests\n",
        "from datetime import datetime,date,timedelta"
      ]
    },
    {
      "cell_type": "code",
      "source": [
        "requesturl = 'http://data.krx.co.kr/comm/bldAttendant/getJsonData.cmd'\n",
        "\n",
        "headers = {'Host' : 'data.krx.co.kr',\n",
        "             'User-Agent': 'Mozilla/5.0 (Macintosh; Intel Mac OS X 10_15_7) AppleWebKit/537.36 (KHTML, like Gecko) Chrome/108.0.0.0 Safari/537.36'\n",
        "             , 'content-type': 'application/x-www-form-urlencoded; charset=UTF-8'\n",
        "             \n",
        "             }\n",
        "\n",
        "data = 'bld=dbms/MDC/STAT/standard/MDCSTAT02301&locale=ko_KR&inqTpCd=1&trdVolVal=2&askBid=3&tboxisuCd_finder_stkisu0_0=005930%2F%EC%82%BC%EC%84%B1%EC%A0%84%EC%9E%90&isuCd=KR7005930003&isuCd2=KR7005930003&codeNmisuCd_finder_stkisu0_0=%EC%82%BC%EC%84%B1%EC%A0%84%EC%9E%90&param1isuCd_finder_stkisu0_0=ALL&strtDd=20230102&endDd=20230109&share=1&money=1&csvxls_isNo=false'\n",
        "# data ' ' 안에 한칸 띄워써서 오류가 계속남 -> 이 부분 항상 주의하기\n",
        "\n",
        "res = requests.post(requesturl,headers=headers,data=data)\n",
        "\n",
        "\n",
        "\n",
        "krxitp= json.loads(res.text)['output']\n",
        "\n",
        "length = len(krxitp)\n",
        "\n",
        "\n",
        "\n",
        "for i in range(0,length):\n",
        "  krxitpresult = {'투자자구분': krxitp[i]['INVST_TP_NM'],\n",
        "                  '매도(거래량)' : krxitp [i]['ASK_TRDVOL'],\n",
        "                 '매수(거래량)' : krxitp [i]['BID_TRDVOL'],\n",
        "                  '순매수(거래량)' : krxitp [i]['NETBID_TRDVOL'],\n",
        "                  '매도(거래대금)' : krxitp [i]['ASK_TRDVAL'],\n",
        "                  '매수(거래대금)' : krxitp [i]['BID_TRDVAL'],\n",
        "                  '순매수(거래대금)' : krxitp [i]['NETBID_TRDVAL']}\n",
        "\n",
        "  print(krxitpresult)\n",
        "\n",
        "\n",
        "\n",
        "\n",
        "\n",
        "\n",
        "# # length = len(krxitp)"
      ],
      "metadata": {
        "colab": {
          "base_uri": "https://localhost:8080/"
        },
        "id": "hjxFYapw2AUL",
        "outputId": "c4b22ea4-0270-45eb-f2ba-0e05823c1a16"
      },
      "execution_count": 39,
      "outputs": [
        {
          "output_type": "stream",
          "name": "stdout",
          "text": [
            "{'투자자구분': '금융투자', '매도(거래량)': '13,282,607', '매수(거래량)': '8,200,436', '순매수(거래량)': '-5,082,171', '매도(거래대금)': '763,143,742,200', '매수(거래대금)': '479,610,380,200', '순매수(거래대금)': '-283,533,362,000'}\n",
            "{'투자자구분': '보험', '매도(거래량)': '653,094', '매수(거래량)': '1,297,257', '순매수(거래량)': '644,163', '매도(거래대금)': '37,544,552,900', '매수(거래대금)': '76,314,433,800', '순매수(거래대금)': '38,769,880,900'}\n",
            "{'투자자구분': '투신', '매도(거래량)': '696,112', '매수(거래량)': '2,112,145', '순매수(거래량)': '1,416,033', '매도(거래대금)': '40,018,516,600', '매수(거래대금)': '122,640,008,400', '순매수(거래대금)': '82,621,491,800'}\n",
            "{'투자자구분': '사모', '매도(거래량)': '1,054,489', '매수(거래량)': '2,391,532', '순매수(거래량)': '1,337,043', '매도(거래대금)': '60,730,440,000', '매수(거래대금)': '138,524,106,600', '순매수(거래대금)': '77,793,666,600'}\n",
            "{'투자자구분': '은행', '매도(거래량)': '82,265', '매수(거래량)': '67,869', '순매수(거래량)': '-14,396', '매도(거래대금)': '4,829,811,000', '매수(거래대금)': '3,908,587,000', '순매수(거래대금)': '-921,224,000'}\n",
            "{'투자자구분': '기타금융', '매도(거래량)': '32,204', '매수(거래량)': '183,668', '순매수(거래량)': '151,464', '매도(거래대금)': '1,927,172,300', '매수(거래대금)': '10,451,647,200', '순매수(거래대금)': '8,524,474,900'}\n",
            "{'투자자구분': '연기금 등', '매도(거래량)': '36,978,089', '매수(거래량)': '37,114,245', '순매수(거래량)': '136,156', '매도(거래대금)': '2,129,782,614,600', '매수(거래대금)': '2,137,172,900,400', '순매수(거래대금)': '7,390,285,800'}\n",
            "{'투자자구분': '기관합계', '매도(거래량)': '52,778,860', '매수(거래량)': '51,367,152', '순매수(거래량)': '-1,411,708', '매도(거래대금)': '3,037,976,849,600', '매수(거래대금)': '2,968,622,063,600', '순매수(거래대금)': '-69,354,786,000'}\n",
            "{'투자자구분': '기타법인', '매도(거래량)': '301,725', '매수(거래량)': '476,495', '순매수(거래량)': '174,770', '매도(거래대금)': '17,575,466,300', '매수(거래대금)': '27,760,607,800', '순매수(거래대금)': '10,185,141,500'}\n",
            "{'투자자구분': '개인', '매도(거래량)': '25,126,380', '매수(거래량)': '14,710,591', '순매수(거래량)': '-10,415,789', '매도(거래대금)': '1,463,912,411,300', '매수(거래대금)': '839,523,710,700', '순매수(거래대금)': '-624,388,700,600'}\n",
            "{'투자자구분': '외국인', '매도(거래량)': '17,129,047', '매수(거래량)': '28,807,837', '순매수(거래량)': '11,678,790', '매도(거래대금)': '988,505,534,700', '매수(거래대금)': '1,673,648,113,400', '순매수(거래대금)': '685,142,578,700'}\n",
            "{'투자자구분': '기타외국인', '매도(거래량)': '88,459', '매수(거래량)': '62,396', '순매수(거래량)': '-26,063', '매도(거래대금)': '5,185,590,800', '매수(거래대금)': '3,601,357,200', '순매수(거래대금)': '-1,584,233,600'}\n",
            "{'투자자구분': '전체', '매도(거래량)': '95,424,471', '매수(거래량)': '95,424,471', '순매수(거래량)': '0', '매도(거래대금)': '5,513,155,852,700', '매수(거래대금)': '5,513,155,852,700', '순매수(거래대금)': '0'}\n"
          ]
        }
      ]
    },
    {
      "cell_type": "code",
      "source": [],
      "metadata": {
        "id": "I9ugi2zg2AWY"
      },
      "execution_count": null,
      "outputs": []
    },
    {
      "cell_type": "code",
      "source": [],
      "metadata": {
        "id": "wOhwKBWG2AYx"
      },
      "execution_count": null,
      "outputs": []
    },
    {
      "cell_type": "code",
      "source": [],
      "metadata": {
        "id": "Q5yMw0Dr2AbJ"
      },
      "execution_count": null,
      "outputs": []
    },
    {
      "cell_type": "code",
      "source": [],
      "metadata": {
        "id": "6rRDxADE2Adx"
      },
      "execution_count": null,
      "outputs": []
    },
    {
      "cell_type": "code",
      "source": [],
      "metadata": {
        "id": "ODBpZ_Wb2AgJ"
      },
      "execution_count": null,
      "outputs": []
    },
    {
      "cell_type": "code",
      "source": [],
      "metadata": {
        "id": "kocErIF62Aip"
      },
      "execution_count": null,
      "outputs": []
    }
  ]
}