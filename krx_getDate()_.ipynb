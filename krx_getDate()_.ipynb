{
  "nbformat": 4,
  "nbformat_minor": 0,
  "metadata": {
    "colab": {
      "provenance": []
    },
    "kernelspec": {
      "name": "python3",
      "display_name": "Python 3"
    },
    "language_info": {
      "name": "python"
    }
  },
  "cells": [
    {
      "cell_type": "code",
      "execution_count": 2,
      "metadata": {
        "id": "w1tS2oiJN3MD"
      },
      "outputs": [],
      "source": [
        "#모듈 설치\n",
        "\n",
        "import json\n",
        "import requests\n",
        "from datetime import date,datetime,timedelta"
      ]
    },
    {
      "cell_type": "code",
      "source": [
        "# practice 1\n",
        "\n",
        "date = datetime.now() -timedelta(days=1)\n",
        "date"
      ],
      "metadata": {
        "colab": {
          "base_uri": "https://localhost:8080/"
        },
        "id": "XVf8DxFkODGG",
        "outputId": "a123a890-e1a6-4d19-a22b-01f85c21b0d2"
      },
      "execution_count": 5,
      "outputs": [
        {
          "output_type": "execute_result",
          "data": {
            "text/plain": [
              "datetime.datetime(2023, 1, 8, 6, 30, 8, 769321)"
            ]
          },
          "metadata": {},
          "execution_count": 5
        }
      ]
    },
    {
      "cell_type": "code",
      "source": [
        "yesterday = str(date).split(' ')[0]\n",
        "yesterday"
      ],
      "metadata": {
        "colab": {
          "base_uri": "https://localhost:8080/",
          "height": 37
        },
        "id": "wCUS1TtLODIW",
        "outputId": "eac1652c-7c28-4648-daa4-e991569bd3e0"
      },
      "execution_count": 7,
      "outputs": [
        {
          "output_type": "execute_result",
          "data": {
            "text/plain": [
              "'2023-01-08'"
            ],
            "application/vnd.google.colaboratory.intrinsic+json": {
              "type": "string"
            }
          },
          "metadata": {},
          "execution_count": 7
        }
      ]
    },
    {
      "cell_type": "code",
      "source": [
        "# practice 2\n",
        "\n",
        "def getDate():\n",
        "    # getPostCallApi('krx_getDate_실행')\n",
        "    date = datetime.now() - timedelta(days=1)\n",
        "    yesterday = str(date).split(' ')[0]\n",
        "    format = '%Y-%m-%d'\n",
        "    date = datetime.strptime(yesterday,format)\n",
        "\n",
        "\n",
        "# strftime : 날짜와 시간을 문자열로 출력하기 위한 것\n",
        "\n",
        "# strptime:  날짜와 시간 형식의 문자열을 datetime 형식으로 하려는 것것.\n",
        "   \n",
        "    dayNumber = date.weekday() \n",
        "    if dayNumber == 6:\n",
        "      date = datetime.now()-timedelta(days=3)\n",
        "\n",
        "    date = str(date).split(' ')[0]\n",
        "\n",
        "    return date\n",
        "\n",
        "    print(date)\n",
        "\n",
        "\n",
        " "
      ],
      "metadata": {
        "id": "_Ju5V9iQODKk"
      },
      "execution_count": 28,
      "outputs": []
    },
    {
      "cell_type": "code",
      "source": [],
      "metadata": {
        "id": "1ffrt_x5ODM8"
      },
      "execution_count": null,
      "outputs": []
    },
    {
      "cell_type": "code",
      "source": [],
      "metadata": {
        "id": "L-C9pnQZODPL"
      },
      "execution_count": null,
      "outputs": []
    },
    {
      "cell_type": "code",
      "source": [],
      "metadata": {
        "id": "ejmV_5BHODRO"
      },
      "execution_count": null,
      "outputs": []
    },
    {
      "cell_type": "code",
      "source": [],
      "metadata": {
        "id": "tuiCDl-TODTc"
      },
      "execution_count": null,
      "outputs": []
    }
  ]
}