{
  "cells": [
    {
      "cell_type": "code",
      "execution_count": 1,
      "metadata": {
        "id": "RJmLAhwuI4ur"
      },
      "outputs": [],
      "source": [
        "#모듈 설치\n",
        "\n",
        "import requests\n",
        "import json\n",
        "\n",
        "from datetime import datetime,date,timedelta"
      ]
    },
    {
      "cell_type": "code",
      "execution_count": null,
      "metadata": {
        "colab": {
          "base_uri": "https://localhost:8080/"
        },
        "id": "e15NXxJ6Jz-i",
        "outputId": "4c4b8ed2-f99b-45c1-aaf1-b0ab5c235490"
      },
      "outputs": [],
      "source": [
        "requesturl = 'http://data.krx.co.kr/comm/bldAttendant/getJsonData.cmd'\n",
        "\n",
        "headers = {'Host' : 'data.krx.co.kr',\n",
        "             'User-Agent': 'Mozilla/5.0 (Macintosh; Intel Mac OS X 10_15_7) AppleWebKit/537.36 (KHTML, like Gecko) Chrome/108.0.0.0 Safari/537.36'\n",
        "             , 'content-type': 'application/x-www-form-urlencoded; charset=UTF-8'\n",
        "             \n",
        "             }\n",
        "\n",
        "data = 'bld=dbms/MDC/STAT/standard/MDCSTAT03701&locale=ko_KR&searchType=1&mktId=ALL&trdDd=20230110&tboxisuCd_finder_stkisu0_0=005930%2F%EC%82%BC%EC%84%B1%EC%A0%84%EC%9E%90&isuCd=KR7005930003&isuCd2=KR7005930003&codeNmisuCd_finder_stkisu0_0=%EC%82%BC%EC%84%B1%EC%A0%84%EC%9E%90&param1isuCd_finder_stkisu0_0=ALL&strtDd=20230102&endDd=20230109&share=1&csvxls_isNo=false'\n",
        "\n",
        "\n",
        "res = requests.post(requesturl,headers=headers,data=data)\n",
        "\n",
        "krxfor = json.loads(res.text)['output']\n",
        "\n",
        "length = len(krxfor)\n",
        "\n",
        "for i in range(0,length):\n",
        "  krxforesult = {'종목코드':krxfor[i]['ISU_SRT_CD'],'종목명':krxfor[i]['ISU_ABBRV'],'종가':krxfor[i]['TDD_CLSPRC'],'대비':krxfor[i]['CMPPREVDD_PRC'],'등락률':krxfor[i]['FLUC_RT'],\n",
        "                 '상장주식수':krxfor[i]['FORN_ORD_LMT_QTY'], '외국인 보유수량':krxfor[i]['FORN_HD_QTY'],'외국인 지분율':krxfor[i]['FORN_LMT_EXHST_RT'],'외국인 한도수량':krxfor[i]['FORN_ORD_LMT_QTY'],\n",
        "                 '외국인인 한도소진율':krxfor[i]['FORN_SHR_RT']}\n",
        "\n",
        "\n",
        "  print(krxforesult)"
      ]
    },
    {
      "cell_type": "code",
      "execution_count": null,
      "metadata": {
        "id": "PDRbe2FuJ0Ax"
      },
      "outputs": [],
      "source": []
    },
    {
      "cell_type": "code",
      "execution_count": null,
      "metadata": {
        "id": "gYSFwnDCJ0Cq"
      },
      "outputs": [],
      "source": []
    },
    {
      "cell_type": "code",
      "execution_count": null,
      "metadata": {
        "id": "zeVmji10J0Ex"
      },
      "outputs": [],
      "source": []
    },
    {
      "cell_type": "code",
      "execution_count": null,
      "metadata": {
        "id": "HRlnGYUwJ0Gz"
      },
      "outputs": [],
      "source": []
    },
    {
      "cell_type": "code",
      "execution_count": null,
      "metadata": {
        "id": "sQHXHoe9J0Ix"
      },
      "outputs": [],
      "source": []
    },
    {
      "cell_type": "code",
      "execution_count": null,
      "metadata": {
        "id": "4Omkzx0mJ0M0"
      },
      "outputs": [],
      "source": []
    },
    {
      "cell_type": "code",
      "execution_count": null,
      "metadata": {
        "id": "s7HUxB4IJ0PQ"
      },
      "outputs": [],
      "source": []
    }
  ],
  "metadata": {
    "colab": {
      "provenance": []
    },
    "kernelspec": {
      "display_name": "Python 3",
      "name": "python3"
    },
    "language_info": {
      "name": "python"
    }
  },
  "nbformat": 4,
  "nbformat_minor": 0
}
