{
  "nbformat": 4,
  "nbformat_minor": 0,
  "metadata": {
    "colab": {
      "provenance": []
    },
    "kernelspec": {
      "name": "python3",
      "display_name": "Python 3"
    },
    "language_info": {
      "name": "python"
    }
  },
  "cells": [
    {
      "cell_type": "code",
      "execution_count": 4,
      "metadata": {
        "id": "l7t7fRhCT-xU"
      },
      "outputs": [],
      "source": [
        "#모듈 설치\n",
        "\n",
        "import json\n",
        "import requests\n",
        "from datetime import datetime,date,timedelta"
      ]
    },
    {
      "cell_type": "code",
      "source": [
        "#KRX 상장종목 현황 파싱\n",
        "\n",
        "requesturl = 'http://data.krx.co.kr/comm/bldAttendant/getJsonData.cmd'\n",
        "\n",
        "headers = {'Host' : 'data.krx.co.kr',\n",
        "             'User-Agent': 'Mozilla/5.0 (Macintosh; Intel Mac OS X 10_15_7) AppleWebKit/537.36 (KHTML, like Gecko) Chrome/108.0.0.0 Safari/537.36'\n",
        "             , 'content-type': 'application/x-www-form-urlencoded; charset=UTF-8'\n",
        "             \n",
        "             }\n",
        "\n",
        "data = 'bld=dbms/MDC/EASY/main/MDCEASY00201&locale=ko_KR&trdDd=20230109&searchType=0&share=2&money=3&choicYn=N&csvxls_isNo=false'\n",
        "\n",
        "# 여기서 data 가 원하는 페이지로 갈 수 있는 중요한 변수다.\n",
        "# 개발자자 모드 -> network -> payload -> formdata에 있다.\n",
        "\n",
        "res = requests.post(requesturl,headers=headers,data=data )\n",
        "\n",
        "\n",
        "\n",
        "Krxlist = json.loads(res.text)['OutBlock_1']\n",
        "\n",
        "length = len(Krxlist)\n",
        "\n",
        "#krxhome = []\n",
        "\n",
        "for i in range(0,length):\n",
        "  KRX = {'구분' : Krxlist[i]['SECUGRP_NM'],\n",
        "         '회사수':Krxlist[i]['LISTCOM_CNT'],\n",
        "         '종목수':Krxlist[i]['LIST_ISU_CNT'],\n",
        "         '상장주식수':Krxlist[i]['LIST_SHRS'],\n",
        "         '시가총액':Krxlist[i]['MKTCAP'],\n",
        "         }\n",
        "\n",
        "  #krxhome.append(KRX)\n",
        "         \n",
        "\n",
        "\n",
        "\n",
        "      \n",
        "  #krxhome.append(KRX)\n",
        "  \n",
        "  print(KRX)\n"
      ],
      "metadata": {
        "id": "KGBz_93xW2Th"
      },
      "execution_count": null,
      "outputs": []
    },
    {
      "cell_type": "code",
      "source": [
        "# KRX - etf Title. 예시\n",
        "\n",
        "url = 'http://data.krx.co.kr/comm/bldAttendant/getJsonData.cmd'\n",
        "headers = {\n",
        "        'content-type': 'application/x-www-form-urlencoded; charset=UTF-8',\n",
        "        'Host': 'data.krx.co.kr',\n",
        "        'User-Agent': 'Mozilla/5.0 (Windows NT 10.0; Win64; x64) AppleWebKit/537.36 (KHTML, like Gecko) Chrome/97.0.4692.99 Safari/537.36',\n",
        "        'Content-Length' : '<calculated when request is sent>'\n",
        "    }\n",
        "data = 'locale=ko_KR&mktsel=ETF&searchText=&bld=dbms%2Fcomm%2Ffinder%2Ffinder_secuprodisu'\n",
        "res = requests.post(url,headers=headers,data=data)\n",
        "krxResult = json.loads(res.text)['block1']\n",
        "length = len(krxResult)\n",
        "print('etfTitle 길이 : ' + str(length))\n",
        "krxList = []\n",
        "#종목 갯수\n",
        "\n",
        "for i in range(0,length):\n",
        "  krxTitleInfomation = {\n",
        "      'isinCode' : krxResult[i]['full_code'],\n",
        "      'tickerSymbol' : krxResult[i]['short_code'],\n",
        "      'tickerName' : krxResult[i]['codeName'],\n",
        "      }\n",
        "      #krxList.append(krxTitleInfomation)\n",
        "\n",
        "  print(krxTitleInfomation)"
      ],
      "metadata": {
        "id": "9Lntp_CuW2Xq"
      },
      "execution_count": null,
      "outputs": []
    },
    {
      "cell_type": "code",
      "source": [],
      "metadata": {
        "id": "V3K0-iaaW2Zv"
      },
      "execution_count": null,
      "outputs": []
    }
  ]
}